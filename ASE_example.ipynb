{
 "cells": [
  {
   "cell_type": "code",
   "execution_count": 1,
   "metadata": {},
   "outputs": [],
   "source": [
    "from ase.visualize import view \n",
    "from ase.build import fcc111, surface\n",
    "from ase.spacegroup import Spacegroup\n",
    "from ase.spacegroup import crystal\n",
    "\n",
    "import numpy as np\n",
    "import json"
   ]
  },
  {
   "cell_type": "code",
   "execution_count": 2,
   "metadata": {},
   "outputs": [],
   "source": [
    "# Auxiliary write XYZ to file function\n",
    "# Usage: write_(slab, fname = 'my_slab.xyz')\n",
    "\n",
    "def write_(arr, fname = \"untitled_xyz.xyz\", get_pos = True, atom = 'Au'):\n",
    "    with open(fname,'w') as f:\n",
    "        f.write(f\"{len(arr)}\\n\")\n",
    "        f.write(\"\\n\")\n",
    "        if get_pos:\n",
    "            for idx, line in enumerate(arr.get_positions()):\n",
    "                f.write(\"{:2s} {:>12.6f} {:>12.6f} {:>13.6f}\\n\".format(arr.get_chemical_symbols()[idx],line[0], line[1], line[2]))\n",
    "        else:\n",
    "            for idx, line in enumerate(arr):\n",
    "                f.write(\"Au {:>12.6f} {:>12.6f} {:>13.6f}\\n\".format(line[0], line[1], line[2]))\n",
    "\n"
   ]
  },
  {
   "cell_type": "code",
   "execution_count": 3,
   "metadata": {},
   "outputs": [],
   "source": [
    "def read_json(fname):\n",
    "    with open(fname) as json_file:    \n",
    "        data = json.load(json_file)\n",
    "    return data"
   ]
  },
  {
   "cell_type": "markdown",
   "metadata": {},
   "source": [
    "# Au surfaces"
   ]
  },
  {
   "cell_type": "code",
   "execution_count": 4,
   "metadata": {},
   "outputs": [
    {
     "name": "stdout",
     "output_type": "stream",
     "text": [
      "2560\n"
     ]
    }
   ],
   "source": [
    "# Generate FCC111 surface\n",
    "# https://wiki.fysik.dtu.dk/ase/ase/build/surface.html#ase.build.fcc111\n",
    "\n",
    "slab = fcc111('Au', size=(16,32,5), vacuum=15.0, orthogonal=True)\n",
    "# slab = fcc111('Au', size=(4,4,30), vacuum=15.0, orthogonal=True)\n",
    "# slab.center()\n",
    "#print(dir(slab)) #see what operations are available for this object\n",
    "print(len(slab.get_positions()))\n",
    "write_(slab, fname = 'Au111_from_fcc111.xyz')"
   ]
  },
  {
   "cell_type": "code",
   "execution_count": 5,
   "metadata": {},
   "outputs": [
    {
     "name": "stdout",
     "output_type": "stream",
     "text": [
      "480\n"
     ]
    }
   ],
   "source": [
    "#https://wiki.fysik.dtu.dk/ase/ase/build/surface.html#ase.build.surface\n",
    "Au111 = surface('Au', (1,1,1), layers=15, periodic=True)\n",
    "Au111 = Au111.repeat(2)\n",
    "\n",
    "Au111.translate((16.0, 12.0, 12.49))\n",
    "print(len(Au111.get_positions()))\n",
    "write_(Au111, 'Au111_from_surface.xyz')\n",
    "\n",
    "# Au111.rotate(180,'z')\n",
    "# Au111.rotate(180,'y')\n",
    "\n",
    "# write_(Au111, 'Au111_from_surface_rotated.xyz')\n"
   ]
  },
  {
   "cell_type": "markdown",
   "metadata": {},
   "source": [
    "### Surface vs fcc111\n",
    "---\n",
    "#### These two are identical!\n",
    "\n",
    "\n",
    "1- Au_111_from_fcc111 = fcc111('Au', size=(4,4,30), vacuum=15.0, orthogonal=False)\n",
    "<br><br>\n",
    "\n",
    "2- Au_111_from_surface = surface('Au', (1,1,1), layers=15, periodic=True)\n",
    "<p>2.1- Au_111_from_surface = Au_111_from_surface.repeat(2)\n",
    "\n",
    "\n",
    "\n"
   ]
  },
  {
   "cell_type": "code",
   "execution_count": 6,
   "metadata": {},
   "outputs": [],
   "source": [
    "#alvaro\n",
    "#2.94085710     2.94085710   500.00000000    90.000000  90.000000 120.000000\n",
    "#   Au -1.470428551477E+00  8.489523200196E-01  4.802399539119E+00\n",
    "#   Au  1.470428551477E+00 -8.489523200196E-01  2.401199769560E+00\n",
    "#   Au -3.265007267833E-16  0.000000000000E+00  0.000000000000E+00\n",
    "#   Au -1.470428551477E+00  8.489523200196E-01 -2.401199769560E+00\n",
    "#   Au  1.470428551477E+00 -8.489523200196E-01 -4.802399539119E+00\n",
    "\n",
    "# a = 2.94085710 \n",
    "# b =2.94085710 \n",
    "# c=500\n",
    "\n",
    "# basis=[\n",
    "# (-1.470428551477E+00 , 8.489523200196E-01 , 4.802399539119E+00),\n",
    "# (1.470428551477E+00 ,-8.489523200196E-01 , 2.401199769560E+00),\n",
    "# (-3.265007267833E-16 , 0.000000000000E+00 , 0.000000000000E+00),\n",
    "# (-1.470428551477E+00 , 8.489523200196E-01, -2.401199769560E+00),\n",
    "# (1.470428551477E+00, -8.489523200196E-01, -4.802399539119E+00),\n",
    "# ]\n",
    "\n",
    "# gold_alvaro = crystal(['Au','Au','Au','Au','Au',], \n",
    "#                  basis=basis,\n",
    "#                  spacegroup=225, \n",
    "#                  cellpar=[a, b, c, 90, 90, 120])\n",
    "\n",
    "# # gold_alvaro = gold_alvaro.repeat(2)\n",
    "# write_(gold_alvaro, 'gold_alvaro.xyz')"
   ]
  },
  {
   "cell_type": "code",
   "execution_count": 7,
   "metadata": {},
   "outputs": [],
   "source": [
    "#https://wiki.fysik.dtu.dk/ase/ase/spacegroup/spacegroup.html?highlight=spacegroup#the-spacegroup-class\n",
    "sg = Spacegroup(154)\n",
    "sg = Spacegroup(152)\n",
    "\n",
    "# print(sg)"
   ]
  },
  {
   "cell_type": "markdown",
   "metadata": {},
   "source": [
    "# Alpha quartz facets"
   ]
  },
  {
   "cell_type": "code",
   "execution_count": 8,
   "metadata": {},
   "outputs": [
    {
     "data": {
      "text/plain": [
       "['# generated using pymatgen',\n",
       " 'data_Au',\n",
       " \"_symmetry_space_group_name_H-M   'P 1'\",\n",
       " '_cell_length_a   2.94954603',\n",
       " '_cell_length_b   2.94954603',\n",
       " '_cell_length_c   2.94954603',\n",
       " '_cell_angle_alpha   60.00000000',\n",
       " '_cell_angle_beta   60.00000000',\n",
       " '_cell_angle_gamma   60.00000000',\n",
       " '_symmetry_Int_Tables_number   1',\n",
       " '_chemical_formula_structural   Au',\n",
       " '_chemical_formula_sum   Au1',\n",
       " '_cell_volume   18.14473112',\n",
       " '_cell_formula_units_Z   1',\n",
       " 'loop_',\n",
       " ' _symmetry_equiv_pos_site_id',\n",
       " ' _symmetry_equiv_pos_as_xyz',\n",
       " \"  1  'x, y, z'\",\n",
       " 'loop_',\n",
       " ' _atom_site_type_symbol',\n",
       " ' _atom_site_label',\n",
       " ' _atom_site_symmetry_multiplicity',\n",
       " ' _atom_site_fract_x',\n",
       " ' _atom_site_fract_y',\n",
       " ' _atom_site_fract_z',\n",
       " ' _atom_site_occupancy',\n",
       " '  Au  Au0  1  0.00000000  0.00000000  0.00000000  1',\n",
       " '']"
      ]
     },
     "execution_count": 8,
     "metadata": {},
     "output_type": "execute_result"
    }
   ],
   "source": [
    "#https://materialsproject.org/materials/mp-6930/#\n",
    "\n",
    "silicon = read_json('mp-6930_SiO2.json')\n",
    "gold = read_json('mp-81_Au.json')\n",
    "    \n",
    "info_sil = silicon['cifs']['computed'].split(\"\\n\")\n",
    "info_gold = gold['cifs']['computed'].split(\"\\n\")\n",
    "info_gold"
   ]
  },
  {
   "cell_type": "code",
   "execution_count": 9,
   "metadata": {},
   "outputs": [
    {
     "name": "stdout",
     "output_type": "stream",
     "text": [
      "27\n"
     ]
    }
   ],
   "source": [
    "a = 2.94954603\n",
    "\n",
    "gold_mp = crystal(['Au'], \n",
    "                 basis=[(0,0,0)],\n",
    "                 spacegroup=225, \n",
    "                 cellpar=[a, a, a, 90,90,120], primitive_cell=True)\n",
    "\n",
    "gold_mp = gold_mp.repeat((3))\n",
    "print(len(gold_mp.get_positions()))\n",
    "write_(gold_mp, fname = 'gold_mp.xyz')"
   ]
  },
  {
   "cell_type": "code",
   "execution_count": 10,
   "metadata": {},
   "outputs": [
    {
     "name": "stdout",
     "output_type": "stream",
     "text": [
      "243\n"
     ]
    },
    {
     "name": "stderr",
     "output_type": "stream",
     "text": [
      "/Users/smol/.pyenv/versions/3.9.0/lib/python3.9/site-packages/ase/spacegroup/spacegroup.py:433: UserWarning: scaled_positions 0 and 1 are equivalent\n",
      "  warnings.warn('scaled_positions %d and %d '\n",
      "/Users/smol/.pyenv/versions/3.9.0/lib/python3.9/site-packages/ase/spacegroup/spacegroup.py:433: UserWarning: scaled_positions 0 and 2 are equivalent\n",
      "  warnings.warn('scaled_positions %d and %d '\n",
      "/Users/smol/.pyenv/versions/3.9.0/lib/python3.9/site-packages/ase/spacegroup/spacegroup.py:433: UserWarning: scaled_positions 3 and 4 are equivalent\n",
      "  warnings.warn('scaled_positions %d and %d '\n",
      "/Users/smol/.pyenv/versions/3.9.0/lib/python3.9/site-packages/ase/spacegroup/spacegroup.py:433: UserWarning: scaled_positions 3 and 5 are equivalent\n",
      "  warnings.warn('scaled_positions %d and %d '\n",
      "/Users/smol/.pyenv/versions/3.9.0/lib/python3.9/site-packages/ase/spacegroup/spacegroup.py:433: UserWarning: scaled_positions 3 and 6 are equivalent\n",
      "  warnings.warn('scaled_positions %d and %d '\n",
      "/Users/smol/.pyenv/versions/3.9.0/lib/python3.9/site-packages/ase/spacegroup/spacegroup.py:433: UserWarning: scaled_positions 3 and 7 are equivalent\n",
      "  warnings.warn('scaled_positions %d and %d '\n",
      "/Users/smol/.pyenv/versions/3.9.0/lib/python3.9/site-packages/ase/spacegroup/spacegroup.py:433: UserWarning: scaled_positions 3 and 8 are equivalent\n",
      "  warnings.warn('scaled_positions %d and %d '\n"
     ]
    }
   ],
   "source": [
    "a = 5.02778205\n",
    "c = 5.51891800\n",
    "\n",
    "quartz = crystal(['Si','Si','Si', 'O', 'O', 'O', 'O', 'O', 'O'], \n",
    "                 basis=[(0,0.4773,0.3333),\n",
    "                        (0.4773,0,0.6667),\n",
    "                        (0.5227,0.5227,0),\n",
    "                        (0.1607,0.7457,0.5373),\n",
    "                        (0.2543,0.415,0.204),\n",
    "                        (0.415,0.2543,0.796),\n",
    "                        (0.585,0.8393,0.8707),\n",
    "                        (0.7457,0.1607,0.4627),\n",
    "                        (0.8393,0.585,0.1293)],\n",
    "                 spacegroup=154, \n",
    "                 cellpar=[a, a, c, 90, 90, 120])\n",
    "\n",
    "quartz = quartz.repeat((3))\n",
    "print(len(quartz.get_positions()))\n",
    "write_(quartz, fname = 'quartz.xyz')"
   ]
  },
  {
   "cell_type": "code",
   "execution_count": 11,
   "metadata": {},
   "outputs": [
    {
     "name": "stdout",
     "output_type": "stream",
     "text": [
      "Writing quartz_001, 486\n",
      "Writing quartz_110, 486\n",
      "Writing quartz_102, 486\n",
      "Writing quartz_101, 486\n",
      "Writing quartz_100, 486\n",
      "Writing quartz_112, 486\n",
      "Writing quartz_111, 486\n"
     ]
    }
   ],
   "source": [
    "surfaces = ['001', '110', '102', '101', '100', '112', '111']\n",
    "\n",
    "for s in surfaces:\n",
    "    fname = f'quartz_{s}.xyz'\n",
    "    indice = tuple(map(int, list(s)))\n",
    "    temp = surface(quartz, indices = indice, layers=2, vacuum=15., periodic=True)\n",
    "    print(f\"Writing quartz_{s}, {len(temp.get_positions())}\")\n",
    "    write_(temp, fname = fname)"
   ]
  },
  {
   "cell_type": "code",
   "execution_count": 12,
   "metadata": {},
   "outputs": [],
   "source": [
    "# q_111 = surface(quartz, indices = (1,1,1), layers=2, vacuum=15.)\n",
    "# q_100 = surface(quartz, indices = (1,0,0), layers=2, vacuum=15.)\n",
    "# q_112 = surface(quartz, indices = (1,1,2), layers=2, vacuum=15.)\n",
    "# q_110 = surface(quartz, indices = (1,1,0), layers=2, vacuum=15.)\n",
    "# write_(q_111, fname = 'quartz_111.xyz')\n",
    "# write_(q_100, fname = 'quartz_100.xyz')\n",
    "# write_(q_112, fname = 'quartz_112.xyz')\n",
    "# write_(q_110, fname = 'quartz_110.xyz')"
   ]
  },
  {
   "cell_type": "code",
   "execution_count": 105,
   "metadata": {},
   "outputs": [
    {
     "data": {
      "text/plain": [
       "array([[-1.47043,  0.84895,  4.8024 ],\n",
       "       [ 1.47043, -0.84895,  2.4012 ],\n",
       "       [-0.     ,  0.     ,  0.     ],\n",
       "       [-1.47043,  0.84895, -2.4012 ],\n",
       "       [ 1.47043, -0.84895, -4.8024 ]])"
      ]
     },
     "execution_count": 105,
     "metadata": {},
     "output_type": "execute_result"
    }
   ],
   "source": [
    "basis=np.array([\n",
    "(-1.470428551477E+00 , 8.489523200196E-01 , 4.802399539119E+00),\n",
    "(1.470428551477E+00 ,-8.489523200196E-01 , 2.401199769560E+00),\n",
    "(-3.265007267833E-16 , 0.000000000000E+00 , 0.000000000000E+00),\n",
    "(-1.470428551477E+00 , 8.489523200196E-01, -2.401199769560E+00),\n",
    "(1.470428551477E+00, -8.489523200196E-01, -4.802399539119E+00),\n",
    "])\n",
    "basis=np.round(basis,5)\n",
    "basis"
   ]
  },
  {
   "cell_type": "code",
   "execution_count": 106,
   "metadata": {},
   "outputs": [
    {
     "data": {
      "text/plain": [
       "array([[-1.47043,  0.84895,  4.8024 ],\n",
       "       [ 1.47043, -0.84895,  2.4012 ],\n",
       "       [-0.     ,  0.     ,  0.     ],\n",
       "       [-1.47043,  0.84895, -2.4012 ],\n",
       "       [ 1.47043, -0.84895, -4.8024 ]])"
      ]
     },
     "execution_count": 106,
     "metadata": {},
     "output_type": "execute_result"
    }
   ],
   "source": [
    "basis"
   ]
  },
  {
   "cell_type": "code",
   "execution_count": 107,
   "metadata": {},
   "outputs": [
    {
     "name": "stdout",
     "output_type": "stream",
     "text": [
      "[[ 1.4704271  0.84895    4.8024   ]\n",
      " [ 4.4112871 -0.84895    2.4012   ]\n",
      " [ 2.9408571  0.         0.       ]\n",
      " [ 1.4704271  0.84895   -2.4012   ]\n",
      " [ 4.4112871 -0.84895   -4.8024   ]]\n",
      "[[ 4.4112842  0.84895    4.8024   ]\n",
      " [ 7.3521442 -0.84895    2.4012   ]\n",
      " [ 5.8817142  0.         0.       ]\n",
      " [ 4.4112842  0.84895   -2.4012   ]\n",
      " [ 7.3521442 -0.84895   -4.8024   ]]\n",
      "[[ 7.3521413  0.84895    4.8024   ]\n",
      " [10.2930013 -0.84895    2.4012   ]\n",
      " [ 8.8225713  0.         0.       ]\n",
      " [ 7.3521413  0.84895   -2.4012   ]\n",
      " [10.2930013 -0.84895   -4.8024   ]]\n",
      "[[10.2929984  0.84895    4.8024   ]\n",
      " [13.2338584 -0.84895    2.4012   ]\n",
      " [11.7634284  0.         0.       ]\n",
      " [10.2929984  0.84895   -2.4012   ]\n",
      " [13.2338584 -0.84895   -4.8024   ]]\n",
      "[[13.2338555  0.84895    4.8024   ]\n",
      " [16.1747155 -0.84895    2.4012   ]\n",
      " [14.7042855  0.         0.       ]\n",
      " [13.2338555  0.84895   -2.4012   ]\n",
      " [16.1747155 -0.84895   -4.8024   ]]\n",
      "[[16.1747126  0.84895    4.8024   ]\n",
      " [19.1155726 -0.84895    2.4012   ]\n",
      " [17.6451426  0.         0.       ]\n",
      " [16.1747126  0.84895   -2.4012   ]\n",
      " [19.1155726 -0.84895   -4.8024   ]]\n",
      "[[19.1155697  0.84895    4.8024   ]\n",
      " [22.0564297 -0.84895    2.4012   ]\n",
      " [20.5859997  0.         0.       ]\n",
      " [19.1155697  0.84895   -2.4012   ]\n",
      " [22.0564297 -0.84895   -4.8024   ]]\n",
      "[[22.0564268  0.84895    4.8024   ]\n",
      " [24.9972868 -0.84895    2.4012   ]\n",
      " [23.5268568  0.         0.       ]\n",
      " [22.0564268  0.84895   -2.4012   ]\n",
      " [24.9972868 -0.84895   -4.8024   ]]\n",
      "[[24.9972839  0.84895    4.8024   ]\n",
      " [27.9381439 -0.84895    2.4012   ]\n",
      " [26.4677139  0.         0.       ]\n",
      " [24.9972839  0.84895   -2.4012   ]\n",
      " [27.9381439 -0.84895   -4.8024   ]]\n",
      "[[27.938141  0.84895   4.8024  ]\n",
      " [30.879001 -0.84895   2.4012  ]\n",
      " [29.408571  0.        0.      ]\n",
      " [27.938141  0.84895  -2.4012  ]\n",
      " [30.879001 -0.84895  -4.8024  ]]\n",
      "[[30.8789981  0.84895    4.8024   ]\n",
      " [33.8198581 -0.84895    2.4012   ]\n",
      " [32.3494281  0.         0.       ]\n",
      " [30.8789981  0.84895   -2.4012   ]\n",
      " [33.8198581 -0.84895   -4.8024   ]]\n",
      "[[33.8198552  0.84895    4.8024   ]\n",
      " [36.7607152 -0.84895    2.4012   ]\n",
      " [35.2902852  0.         0.       ]\n",
      " [33.8198552  0.84895   -2.4012   ]\n",
      " [36.7607152 -0.84895   -4.8024   ]]\n",
      "[[36.7607123  0.84895    4.8024   ]\n",
      " [39.7015723 -0.84895    2.4012   ]\n",
      " [38.2311423  0.         0.       ]\n",
      " [36.7607123  0.84895   -2.4012   ]\n",
      " [39.7015723 -0.84895   -4.8024   ]]\n",
      "[[39.7015694  0.84895    4.8024   ]\n",
      " [42.6424294 -0.84895    2.4012   ]\n",
      " [41.1719994  0.         0.       ]\n",
      " [39.7015694  0.84895   -2.4012   ]\n",
      " [42.6424294 -0.84895   -4.8024   ]]\n",
      "[[42.6424265  0.84895    4.8024   ]\n",
      " [45.5832865 -0.84895    2.4012   ]\n",
      " [44.1128565  0.         0.       ]\n",
      " [42.6424265  0.84895   -2.4012   ]\n",
      " [45.5832865 -0.84895   -4.8024   ]]\n",
      "[[45.5832836  0.84895    4.8024   ]\n",
      " [48.5241436 -0.84895    2.4012   ]\n",
      " [47.0537136  0.         0.       ]\n",
      " [45.5832836  0.84895   -2.4012   ]\n",
      " [48.5241436 -0.84895   -4.8024   ]]\n",
      "[[48.5241407  0.84895    4.8024   ]\n",
      " [51.4650007 -0.84895    2.4012   ]\n",
      " [49.9945707  0.         0.       ]\n",
      " [48.5241407  0.84895   -2.4012   ]\n",
      " [51.4650007 -0.84895   -4.8024   ]]\n",
      "[[51.4649978  0.84895    4.8024   ]\n",
      " [54.4058578 -0.84895    2.4012   ]\n",
      " [52.9354278  0.         0.       ]\n",
      " [51.4649978  0.84895   -2.4012   ]\n",
      " [54.4058578 -0.84895   -4.8024   ]]\n",
      "[[54.4058549  0.84895    4.8024   ]\n",
      " [57.3467149 -0.84895    2.4012   ]\n",
      " [55.8762849  0.         0.       ]\n",
      " [54.4058549  0.84895   -2.4012   ]\n",
      " [57.3467149 -0.84895   -4.8024   ]]\n",
      "[[57.346712  0.84895   4.8024  ]\n",
      " [60.287572 -0.84895   2.4012  ]\n",
      " [58.817142  0.        0.      ]\n",
      " [57.346712  0.84895  -2.4012  ]\n",
      " [60.287572 -0.84895  -4.8024  ]]\n",
      "[[57.346712   3.7898071  4.8024   ]\n",
      " [60.287572   2.0919071  2.4012   ]\n",
      " [58.817142   2.9408571  0.       ]\n",
      " [57.346712   3.7898071 -2.4012   ]\n",
      " [60.287572   2.0919071 -4.8024   ]]\n",
      "[[57.346712   6.7306642  4.8024   ]\n",
      " [60.287572   5.0327642  2.4012   ]\n",
      " [58.817142   5.8817142  0.       ]\n",
      " [57.346712   6.7306642 -2.4012   ]\n",
      " [60.287572   5.0327642 -4.8024   ]]\n",
      "[[57.346712   9.6715213  4.8024   ]\n",
      " [60.287572   7.9736213  2.4012   ]\n",
      " [58.817142   8.8225713  0.       ]\n",
      " [57.346712   9.6715213 -2.4012   ]\n",
      " [60.287572   7.9736213 -4.8024   ]]\n",
      "[[57.346712  12.6123784  4.8024   ]\n",
      " [60.287572  10.9144784  2.4012   ]\n",
      " [58.817142  11.7634284  0.       ]\n",
      " [57.346712  12.6123784 -2.4012   ]\n",
      " [60.287572  10.9144784 -4.8024   ]]\n",
      "[[57.346712  15.5532355  4.8024   ]\n",
      " [60.287572  13.8553355  2.4012   ]\n",
      " [58.817142  14.7042855  0.       ]\n",
      " [57.346712  15.5532355 -2.4012   ]\n",
      " [60.287572  13.8553355 -4.8024   ]]\n",
      "[[57.346712  18.4940926  4.8024   ]\n",
      " [60.287572  16.7961926  2.4012   ]\n",
      " [58.817142  17.6451426  0.       ]\n",
      " [57.346712  18.4940926 -2.4012   ]\n",
      " [60.287572  16.7961926 -4.8024   ]]\n",
      "[[57.346712  21.4349497  4.8024   ]\n",
      " [60.287572  19.7370497  2.4012   ]\n",
      " [58.817142  20.5859997  0.       ]\n",
      " [57.346712  21.4349497 -2.4012   ]\n",
      " [60.287572  19.7370497 -4.8024   ]]\n",
      "[[57.346712  24.3758068  4.8024   ]\n",
      " [60.287572  22.6779068  2.4012   ]\n",
      " [58.817142  23.5268568  0.       ]\n",
      " [57.346712  24.3758068 -2.4012   ]\n",
      " [60.287572  22.6779068 -4.8024   ]]\n",
      "[[57.346712  27.3166639  4.8024   ]\n",
      " [60.287572  25.6187639  2.4012   ]\n",
      " [58.817142  26.4677139  0.       ]\n",
      " [57.346712  27.3166639 -2.4012   ]\n",
      " [60.287572  25.6187639 -4.8024   ]]\n",
      "[[57.346712 30.257521  4.8024  ]\n",
      " [60.287572 28.559621  2.4012  ]\n",
      " [58.817142 29.408571  0.      ]\n",
      " [57.346712 30.257521 -2.4012  ]\n",
      " [60.287572 28.559621 -4.8024  ]]\n",
      "[[57.346712  33.1983781  4.8024   ]\n",
      " [60.287572  31.5004781  2.4012   ]\n",
      " [58.817142  32.3494281  0.       ]\n",
      " [57.346712  33.1983781 -2.4012   ]\n",
      " [60.287572  31.5004781 -4.8024   ]]\n",
      "[[57.346712  36.1392352  4.8024   ]\n",
      " [60.287572  34.4413352  2.4012   ]\n",
      " [58.817142  35.2902852  0.       ]\n",
      " [57.346712  36.1392352 -2.4012   ]\n",
      " [60.287572  34.4413352 -4.8024   ]]\n",
      "[[57.346712  39.0800923  4.8024   ]\n",
      " [60.287572  37.3821923  2.4012   ]\n",
      " [58.817142  38.2311423  0.       ]\n",
      " [57.346712  39.0800923 -2.4012   ]\n",
      " [60.287572  37.3821923 -4.8024   ]]\n",
      "[[57.346712  42.0209494  4.8024   ]\n",
      " [60.287572  40.3230494  2.4012   ]\n",
      " [58.817142  41.1719994  0.       ]\n",
      " [57.346712  42.0209494 -2.4012   ]\n",
      " [60.287572  40.3230494 -4.8024   ]]\n",
      "[[57.346712  44.9618065  4.8024   ]\n",
      " [60.287572  43.2639065  2.4012   ]\n",
      " [58.817142  44.1128565  0.       ]\n",
      " [57.346712  44.9618065 -2.4012   ]\n",
      " [60.287572  43.2639065 -4.8024   ]]\n",
      "[[57.346712  47.9026636  4.8024   ]\n",
      " [60.287572  46.2047636  2.4012   ]\n",
      " [58.817142  47.0537136  0.       ]\n",
      " [57.346712  47.9026636 -2.4012   ]\n",
      " [60.287572  46.2047636 -4.8024   ]]\n",
      "[[57.346712  50.8435207  4.8024   ]\n",
      " [60.287572  49.1456207  2.4012   ]\n",
      " [58.817142  49.9945707  0.       ]\n",
      " [57.346712  50.8435207 -2.4012   ]\n",
      " [60.287572  49.1456207 -4.8024   ]]\n",
      "[[57.346712  53.7843778  4.8024   ]\n",
      " [60.287572  52.0864778  2.4012   ]\n",
      " [58.817142  52.9354278  0.       ]\n",
      " [57.346712  53.7843778 -2.4012   ]\n",
      " [60.287572  52.0864778 -4.8024   ]]\n",
      "[[57.346712  56.7252349  4.8024   ]\n",
      " [60.287572  55.0273349  2.4012   ]\n",
      " [58.817142  55.8762849  0.       ]\n",
      " [57.346712  56.7252349 -2.4012   ]\n",
      " [60.287572  55.0273349 -4.8024   ]]\n",
      "[[57.346712 59.666092  4.8024  ]\n",
      " [60.287572 57.968192  2.4012  ]\n",
      " [58.817142 58.817142  0.      ]\n",
      " [57.346712 59.666092 -2.4012  ]\n",
      " [60.287572 57.968192 -4.8024  ]]\n"
     ]
    }
   ],
   "source": [
    "latt = [2.94085710, 2.94085710, 500.00000000]\n",
    "angg = [90, 90, 120]\n",
    "my_arr = np.empty((1,3))\n",
    "\n",
    "for i in range(20):\n",
    "    basis[:,0] += latt[0]\n",
    "    print(basis)\n",
    "\n",
    "    my_arr = np.concatenate((my_arr, basis), axis=0)\n",
    "\n",
    "for i in range(20):\n",
    "    basis[:,1] += latt[1]\n",
    "    print(basis)\n",
    "\n",
    "    my_arr = np.concatenate((my_arr, basis), axis=0)"
   ]
  },
  {
   "cell_type": "code",
   "execution_count": 108,
   "metadata": {},
   "outputs": [],
   "source": [
    "# for i in range(3):\n",
    "#     temp[:,1] += latt[1]*i\n",
    "\n",
    "#     temp = np.concatenate((temp, basis), axis=0)\n",
    "# temp"
   ]
  },
  {
   "cell_type": "code",
   "execution_count": 109,
   "metadata": {},
   "outputs": [
    {
     "data": {
      "text/plain": [
       "(201, 3)"
      ]
     },
     "execution_count": 109,
     "metadata": {},
     "output_type": "execute_result"
    }
   ],
   "source": [
    "my_arr.shape"
   ]
  },
  {
   "cell_type": "code",
   "execution_count": 110,
   "metadata": {},
   "outputs": [],
   "source": [
    "write_(my_arr,fname='TEMP.xyz', get_pos=False)"
   ]
  },
  {
   "cell_type": "code",
   "execution_count": null,
   "metadata": {},
   "outputs": [],
   "source": []
  }
 ],
 "metadata": {
  "kernelspec": {
   "display_name": "Python 3",
   "language": "python",
   "name": "python3"
  },
  "language_info": {
   "codemirror_mode": {
    "name": "ipython",
    "version": 3
   },
   "file_extension": ".py",
   "mimetype": "text/x-python",
   "name": "python",
   "nbconvert_exporter": "python",
   "pygments_lexer": "ipython3",
   "version": "3.9.0"
  }
 },
 "nbformat": 4,
 "nbformat_minor": 4
}
