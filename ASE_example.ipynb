{
 "cells": [
  {
   "cell_type": "code",
   "execution_count": 5,
   "metadata": {},
   "outputs": [],
   "source": [
    "from ase.visualize import view \n",
    "from ase.build import fcc111, surface\n",
    "from ase.spacegroup import Spacegroup\n",
    "from ase.spacegroup import crystal\n",
    "\n",
    "import numpy as np\n",
    "import json"
   ]
  },
  {
   "cell_type": "code",
   "execution_count": 6,
   "metadata": {},
   "outputs": [],
   "source": [
    "# Auxiliary write XYZ to file function\n",
    "# Usage: write_(slab, fname = 'my_slab.xyz')\n",
    "\n",
    "def write_(arr, fname = \"untitled_xyz.xyz\", get_pos = True, atom = 'Au'):\n",
    "    with open(fname,'w') as f:\n",
    "        f.write(f\"{len(arr)}\\n\")\n",
    "        f.write(\"\\n\")\n",
    "        if get_pos:\n",
    "            for idx, line in enumerate(arr.get_positions()):\n",
    "                f.write(\"{:2s} {:>12.6f} {:>12.6f} {:>13.6f}\\n\".format(arr.get_chemical_symbols()[idx],line[0], line[1], line[2]))\n",
    "        else:\n",
    "            for idx, line in enumerate(arr):\n",
    "                f.write(\"Au {:>12.6f} {:>12.6f} {:>13.6f}\\n\".format(line[0], line[1], line[2]))\n",
    "\n"
   ]
  },
  {
   "cell_type": "code",
   "execution_count": 7,
   "metadata": {},
   "outputs": [],
   "source": [
    "def read_json(fname):\n",
    "    with open(fname) as json_file:    \n",
    "        data = json.load(json_file)\n",
    "    return data"
   ]
  },
  {
   "cell_type": "markdown",
   "metadata": {},
   "source": [
    "# Au surfaces"
   ]
  },
  {
   "cell_type": "code",
   "execution_count": 8,
   "metadata": {},
   "outputs": [
    {
     "name": "stdout",
     "output_type": "stream",
     "text": [
      "2560\n"
     ]
    }
   ],
   "source": [
    "# Generate FCC111 surface\n",
    "# https://wiki.fysik.dtu.dk/ase/ase/build/surface.html#ase.build.fcc111\n",
    "\n",
    "slab = fcc111('Au', size=(16,32,5), vacuum=15.0, orthogonal=True)\n",
    "# slab = fcc111('Au', size=(4,4,30), vacuum=15.0, orthogonal=True)\n",
    "# slab.center()\n",
    "#print(dir(slab)) #see what operations are available for this object\n",
    "print(len(slab.get_positions()))\n",
    "write_(slab, fname = 'Au111_from_fcc111.xyz')"
   ]
  },
  {
   "cell_type": "code",
   "execution_count": 9,
   "metadata": {},
   "outputs": [
    {
     "name": "stdout",
     "output_type": "stream",
     "text": [
      "480\n"
     ]
    }
   ],
   "source": [
    "#https://wiki.fysik.dtu.dk/ase/ase/build/surface.html#ase.build.surface\n",
    "Au111 = surface('Au', (1,1,1), layers=15, periodic=True)\n",
    "Au111 = Au111.repeat(2)\n",
    "\n",
    "Au111.translate((16.0, 12.0, 12.49))\n",
    "print(len(Au111.get_positions()))\n",
    "write_(Au111, 'Au111_from_surface.xyz')\n",
    "\n",
    "# Au111.rotate(180,'z')\n",
    "# Au111.rotate(180,'y')\n",
    "\n",
    "# write_(Au111, 'Au111_from_surface_rotated.xyz')\n"
   ]
  },
  {
   "cell_type": "markdown",
   "metadata": {},
   "source": [
    "### Surface vs fcc111\n",
    "---\n",
    "#### These two are identical!\n",
    "\n",
    "\n",
    "1- Au_111_from_fcc111 = fcc111('Au', size=(4,4,30), vacuum=15.0, orthogonal=False)\n",
    "<br><br>\n",
    "\n",
    "2- Au_111_from_surface = surface('Au', (1,1,1), layers=15, periodic=True)\n",
    "<p>2.1- Au_111_from_surface = Au_111_from_surface.repeat(2)\n",
    "\n",
    "\n",
    "\n"
   ]
  },
  {
   "cell_type": "code",
   "execution_count": 22,
   "metadata": {},
   "outputs": [
    {
     "name": "stdout",
     "output_type": "stream",
     "text": [
      "245\n"
     ]
    }
   ],
   "source": [
    "#alvaro\n",
    "#2.94085710     2.94085710   500.00000000    90.000000  90.000000 120.000000\n",
    "#   Au -1.470428551477E+00  8.489523200196E-01  4.802399539119E+00\n",
    "#   Au  1.470428551477E+00 -8.489523200196E-01  2.401199769560E+00\n",
    "#   Au -3.265007267833E-16  0.000000000000E+00  0.000000000000E+00\n",
    "#   Au -1.470428551477E+00  8.489523200196E-01 -2.401199769560E+00\n",
    "#   Au  1.470428551477E+00 -8.489523200196E-01 -4.802399539119E+00\n",
    "\n",
    "# a = 2.94085710 \n",
    "# b =2.94085710 \n",
    "# c=500\n",
    "\n",
    "# basis=[\n",
    "# (-1.470428551477E+00 , 8.489523200196E-01 , 4.802399539119E+00),\n",
    "# (1.470428551477E+00 ,-8.489523200196E-01 , 2.401199769560E+00),\n",
    "# (-3.265007267833E-16 , 0.000000000000E+00 , 0.000000000000E+00),\n",
    "# (-1.470428551477E+00 , 8.489523200196E-01, -2.401199769560E+00),\n",
    "# (1.470428551477E+00, -8.489523200196E-01, -4.802399539119E+00),\n",
    "# ]\n",
    "\n",
    "# gold_alvaro = crystal(['Au','Au','Au','Au','Au',], \n",
    "#                  basis=basis,\n",
    "#                  spacegroup=225, \n",
    "#                  cellpar=[a, b, c, 90, 90, 120])\n",
    "\n",
    "# # gold_alvaro = gold_alvaro.repeat(2)\n",
    "# write_(gold_alvaro, 'gold_alvaro.xyz')\n",
    "\n",
    "lat_par=np.array([( -3.333333333333E-01 , 3.333333333333E-01 , 4.802399539119E+00),\n",
    "(  3.333333333333E-01 ,-3.333333333333E-01 , 2.401199769560E+00),\n",
    "( -1.110223024625E-16 , 0.000000000000E+00 , 0.000000000000E+00),\n",
    "( -3.333333333333E-01 , 3.333333333333E-01 ,-2.401199769560E+00),\n",
    "(  3.333333333333E-01 ,-3.333333333333E-01 ,-4.802399539119E+00)])\n",
    "\n",
    "\n",
    "a=2.94085710    \n",
    "b= 2.94085710  \n",
    "c= 500.00000000    \n",
    "alpha=90.000000 \n",
    "beta= 90.000000 \n",
    "gamma=120.000000\n",
    "\n",
    "\n",
    "gold_alvaro = crystal(['Au','Au','Au','Au','Au',], \n",
    "                 basis=lat_par,\n",
    "                 cellpar=[a, b, b*2, 90, 90, 120])\n",
    "\n",
    "gold_alvaro = gold_alvaro.repeat((7,7,1))\n",
    "print(len(gold_alvaro.get_positions()))\n",
    "write_(gold_alvaro, 'gold_alvaro.xyz')\n",
    "\n"
   ]
  },
  {
   "cell_type": "code",
   "execution_count": 3,
   "metadata": {},
   "outputs": [
    {
     "ename": "NameError",
     "evalue": "name 'crystal' is not defined",
     "output_type": "error",
     "traceback": [
      "\u001b[0;31m---------------------------------------------------------------------------\u001b[0m",
      "\u001b[0;31mNameError\u001b[0m                                 Traceback (most recent call last)",
      "\u001b[0;32m<ipython-input-3-d7bf50b463d9>\u001b[0m in \u001b[0;36m<module>\u001b[0;34m\u001b[0m\n\u001b[1;32m      1\u001b[0m \u001b[0ma\u001b[0m \u001b[0;34m=\u001b[0m \u001b[0;36m2.94954603\u001b[0m\u001b[0;34m\u001b[0m\u001b[0;34m\u001b[0m\u001b[0m\n\u001b[1;32m      2\u001b[0m \u001b[0;34m\u001b[0m\u001b[0m\n\u001b[0;32m----> 3\u001b[0;31m gold_mp = crystal(['Au'], \n\u001b[0m\u001b[1;32m      4\u001b[0m                  \u001b[0mbasis\u001b[0m\u001b[0;34m=\u001b[0m\u001b[0;34m[\u001b[0m\u001b[0;34m(\u001b[0m\u001b[0;36m0\u001b[0m\u001b[0;34m,\u001b[0m\u001b[0;36m0\u001b[0m\u001b[0;34m,\u001b[0m\u001b[0;36m0\u001b[0m\u001b[0;34m)\u001b[0m\u001b[0;34m]\u001b[0m\u001b[0;34m,\u001b[0m\u001b[0;34m\u001b[0m\u001b[0;34m\u001b[0m\u001b[0m\n\u001b[1;32m      5\u001b[0m                  \u001b[0mspacegroup\u001b[0m\u001b[0;34m=\u001b[0m\u001b[0;36m225\u001b[0m\u001b[0;34m,\u001b[0m\u001b[0;34m\u001b[0m\u001b[0;34m\u001b[0m\u001b[0m\n",
      "\u001b[0;31mNameError\u001b[0m: name 'crystal' is not defined"
     ]
    }
   ],
   "source": [
    "a = 2.94954603\n",
    "\n",
    "gold_mp = crystal(['Au'], \n",
    "                 basis=[(0,0,0)],\n",
    "                 spacegroup=225, \n",
    "                 cellpar=[a, a, a, 90,90,120], primitive_cell=True)\n",
    "\n",
    "gold_mp = gold_mp.repeat((3))\n",
    "print(len(gold_mp.get_positions()))\n",
    "write_(gold_mp, fname = 'gold_mp.xyz')"
   ]
  },
  {
   "cell_type": "code",
   "execution_count": 7,
   "metadata": {},
   "outputs": [],
   "source": [
    "#https://wiki.fysik.dtu.dk/ase/ase/spacegroup/spacegroup.html?highlight=spacegroup#the-spacegroup-class\n",
    "sg = Spacegroup(154)\n",
    "sg = Spacegroup(152)\n",
    "\n",
    "# print(sg)"
   ]
  },
  {
   "cell_type": "markdown",
   "metadata": {},
   "source": [
    "# Alpha quartz facets"
   ]
  },
  {
   "cell_type": "code",
   "execution_count": 8,
   "metadata": {},
   "outputs": [
    {
     "data": {
      "text/plain": [
       "['# generated using pymatgen',\n",
       " 'data_Au',\n",
       " \"_symmetry_space_group_name_H-M   'P 1'\",\n",
       " '_cell_length_a   2.94954603',\n",
       " '_cell_length_b   2.94954603',\n",
       " '_cell_length_c   2.94954603',\n",
       " '_cell_angle_alpha   60.00000000',\n",
       " '_cell_angle_beta   60.00000000',\n",
       " '_cell_angle_gamma   60.00000000',\n",
       " '_symmetry_Int_Tables_number   1',\n",
       " '_chemical_formula_structural   Au',\n",
       " '_chemical_formula_sum   Au1',\n",
       " '_cell_volume   18.14473112',\n",
       " '_cell_formula_units_Z   1',\n",
       " 'loop_',\n",
       " ' _symmetry_equiv_pos_site_id',\n",
       " ' _symmetry_equiv_pos_as_xyz',\n",
       " \"  1  'x, y, z'\",\n",
       " 'loop_',\n",
       " ' _atom_site_type_symbol',\n",
       " ' _atom_site_label',\n",
       " ' _atom_site_symmetry_multiplicity',\n",
       " ' _atom_site_fract_x',\n",
       " ' _atom_site_fract_y',\n",
       " ' _atom_site_fract_z',\n",
       " ' _atom_site_occupancy',\n",
       " '  Au  Au0  1  0.00000000  0.00000000  0.00000000  1',\n",
       " '']"
      ]
     },
     "execution_count": 8,
     "metadata": {},
     "output_type": "execute_result"
    }
   ],
   "source": [
    "#https://materialsproject.org/materials/mp-6930/#\n",
    "\n",
    "silicon = read_json('mp-6930_SiO2.json')\n",
    "gold = read_json('mp-81_Au.json')\n",
    "    \n",
    "info_sil = silicon['cifs']['computed'].split(\"\\n\")\n",
    "info_gold = gold['cifs']['computed'].split(\"\\n\")\n",
    "info_gold"
   ]
  },
  {
   "cell_type": "code",
   "execution_count": 10,
   "metadata": {},
   "outputs": [
    {
     "name": "stdout",
     "output_type": "stream",
     "text": [
      "243\n"
     ]
    },
    {
     "name": "stderr",
     "output_type": "stream",
     "text": [
      "/Users/smol/.pyenv/versions/3.9.0/lib/python3.9/site-packages/ase/spacegroup/spacegroup.py:433: UserWarning: scaled_positions 0 and 1 are equivalent\n",
      "  warnings.warn('scaled_positions %d and %d '\n",
      "/Users/smol/.pyenv/versions/3.9.0/lib/python3.9/site-packages/ase/spacegroup/spacegroup.py:433: UserWarning: scaled_positions 0 and 2 are equivalent\n",
      "  warnings.warn('scaled_positions %d and %d '\n",
      "/Users/smol/.pyenv/versions/3.9.0/lib/python3.9/site-packages/ase/spacegroup/spacegroup.py:433: UserWarning: scaled_positions 3 and 4 are equivalent\n",
      "  warnings.warn('scaled_positions %d and %d '\n",
      "/Users/smol/.pyenv/versions/3.9.0/lib/python3.9/site-packages/ase/spacegroup/spacegroup.py:433: UserWarning: scaled_positions 3 and 5 are equivalent\n",
      "  warnings.warn('scaled_positions %d and %d '\n",
      "/Users/smol/.pyenv/versions/3.9.0/lib/python3.9/site-packages/ase/spacegroup/spacegroup.py:433: UserWarning: scaled_positions 3 and 6 are equivalent\n",
      "  warnings.warn('scaled_positions %d and %d '\n",
      "/Users/smol/.pyenv/versions/3.9.0/lib/python3.9/site-packages/ase/spacegroup/spacegroup.py:433: UserWarning: scaled_positions 3 and 7 are equivalent\n",
      "  warnings.warn('scaled_positions %d and %d '\n",
      "/Users/smol/.pyenv/versions/3.9.0/lib/python3.9/site-packages/ase/spacegroup/spacegroup.py:433: UserWarning: scaled_positions 3 and 8 are equivalent\n",
      "  warnings.warn('scaled_positions %d and %d '\n"
     ]
    }
   ],
   "source": [
    "a = 5.02778205\n",
    "c = 5.51891800\n",
    "\n",
    "quartz = crystal(['Si','Si','Si', 'O', 'O', 'O', 'O', 'O', 'O'], \n",
    "                 basis=[(0,0.4773,0.3333),\n",
    "                        (0.4773,0,0.6667),\n",
    "                        (0.5227,0.5227,0),\n",
    "                        (0.1607,0.7457,0.5373),\n",
    "                        (0.2543,0.415,0.204),\n",
    "                        (0.415,0.2543,0.796),\n",
    "                        (0.585,0.8393,0.8707),\n",
    "                        (0.7457,0.1607,0.4627),\n",
    "                        (0.8393,0.585,0.1293)],\n",
    "                 spacegroup=154, \n",
    "                 cellpar=[a, a, c, 90, 90, 120])\n",
    "\n",
    "quartz = quartz.repeat((3))\n",
    "print(len(quartz.get_positions()))\n",
    "write_(quartz, fname = 'quartz.xyz')"
   ]
  },
  {
   "cell_type": "code",
   "execution_count": 11,
   "metadata": {},
   "outputs": [
    {
     "name": "stdout",
     "output_type": "stream",
     "text": [
      "Writing quartz_001, 486\n",
      "Writing quartz_110, 486\n",
      "Writing quartz_102, 486\n",
      "Writing quartz_101, 486\n",
      "Writing quartz_100, 486\n",
      "Writing quartz_112, 486\n",
      "Writing quartz_111, 486\n"
     ]
    }
   ],
   "source": [
    "surfaces = ['001', '110', '102', '101', '100', '112', '111']\n",
    "\n",
    "for s in surfaces:\n",
    "    fname = f'quartz_{s}.xyz'\n",
    "    indice = tuple(map(int, list(s)))\n",
    "    temp = surface(quartz, indices = indice, layers=2, vacuum=15., periodic=True)\n",
    "    print(f\"Writing quartz_{s}, {len(temp.get_positions())}\")\n",
    "    write_(temp, fname = fname)"
   ]
  },
  {
   "cell_type": "code",
   "execution_count": 12,
   "metadata": {},
   "outputs": [],
   "source": [
    "# q_111 = surface(quartz, indices = (1,1,1), layers=2, vacuum=15.)\n",
    "# q_100 = surface(quartz, indices = (1,0,0), layers=2, vacuum=15.)\n",
    "# q_112 = surface(quartz, indices = (1,1,2), layers=2, vacuum=15.)\n",
    "# q_110 = surface(quartz, indices = (1,1,0), layers=2, vacuum=15.)\n",
    "# write_(q_111, fname = 'quartz_111.xyz')\n",
    "# write_(q_100, fname = 'quartz_100.xyz')\n",
    "# write_(q_112, fname = 'quartz_112.xyz')\n",
    "# write_(q_110, fname = 'quartz_110.xyz')"
   ]
  },
  {
   "cell_type": "code",
   "execution_count": 112,
   "metadata": {},
   "outputs": [
    {
     "data": {
      "text/plain": [
       "array([[-1.47043,  0.84895,  4.8024 ],\n",
       "       [ 1.47043, -0.84895,  2.4012 ],\n",
       "       [-0.     ,  0.     ,  0.     ],\n",
       "       [-1.47043,  0.84895, -2.4012 ],\n",
       "       [ 1.47043, -0.84895, -4.8024 ]])"
      ]
     },
     "execution_count": 112,
     "metadata": {},
     "output_type": "execute_result"
    }
   ],
   "source": [
    "basis=np.array([\n",
    "(-1.470428551477E+00 , 8.489523200196E-01 , 4.802399539119E+00),\n",
    "(1.470428551477E+00 ,-8.489523200196E-01 , 2.401199769560E+00),\n",
    "(-3.265007267833E-16 , 0.000000000000E+00 , 0.000000000000E+00),\n",
    "(-1.470428551477E+00 , 8.489523200196E-01, -2.401199769560E+00),\n",
    "(1.470428551477E+00, -8.489523200196E-01, -4.802399539119E+00),\n",
    "])\n",
    "basis=np.round(basis,5)\n",
    "basis"
   ]
  },
  {
   "cell_type": "code",
   "execution_count": 113,
   "metadata": {},
   "outputs": [
    {
     "data": {
      "text/plain": [
       "array([[-1.47043,  0.84895,  4.8024 ],\n",
       "       [ 1.47043, -0.84895,  2.4012 ],\n",
       "       [-0.     ,  0.     ,  0.     ],\n",
       "       [-1.47043,  0.84895, -2.4012 ],\n",
       "       [ 1.47043, -0.84895, -4.8024 ]])"
      ]
     },
     "execution_count": 113,
     "metadata": {},
     "output_type": "execute_result"
    }
   ],
   "source": [
    "basis"
   ]
  },
  {
   "cell_type": "code",
   "execution_count": 114,
   "metadata": {},
   "outputs": [
    {
     "name": "stdout",
     "output_type": "stream",
     "text": [
      "[[ 1.4704271  0.84895    4.8024   ]\n",
      " [ 4.4112871 -0.84895    2.4012   ]\n",
      " [ 2.9408571  0.         0.       ]\n",
      " [ 1.4704271  0.84895   -2.4012   ]\n",
      " [ 4.4112871 -0.84895   -4.8024   ]]\n",
      "[[ 4.4112842  0.84895    4.8024   ]\n",
      " [ 7.3521442 -0.84895    2.4012   ]\n",
      " [ 5.8817142  0.         0.       ]\n",
      " [ 4.4112842  0.84895   -2.4012   ]\n",
      " [ 7.3521442 -0.84895   -4.8024   ]]\n",
      "[[ 7.3521413  0.84895    4.8024   ]\n",
      " [10.2930013 -0.84895    2.4012   ]\n",
      " [ 8.8225713  0.         0.       ]\n",
      " [ 7.3521413  0.84895   -2.4012   ]\n",
      " [10.2930013 -0.84895   -4.8024   ]]\n",
      "[[10.2929984  0.84895    4.8024   ]\n",
      " [13.2338584 -0.84895    2.4012   ]\n",
      " [11.7634284  0.         0.       ]\n",
      " [10.2929984  0.84895   -2.4012   ]\n",
      " [13.2338584 -0.84895   -4.8024   ]]\n",
      "[[13.2338555  0.84895    4.8024   ]\n",
      " [16.1747155 -0.84895    2.4012   ]\n",
      " [14.7042855  0.         0.       ]\n",
      " [13.2338555  0.84895   -2.4012   ]\n",
      " [16.1747155 -0.84895   -4.8024   ]]\n",
      "[[13.2338555  0.84895    4.8024   ]\n",
      " [16.1747155 -0.84895    2.4012   ]\n",
      " [14.7042855  0.         0.       ]\n",
      " [13.2338555  0.84895   -2.4012   ]\n",
      " [16.1747155 -0.84895   -4.8024   ]]\n",
      "[[13.2338555  0.84895    4.8024   ]\n",
      " [16.1747155 -0.84895    2.4012   ]\n",
      " [14.7042855  0.         0.       ]\n",
      " [13.2338555  0.84895   -2.4012   ]\n",
      " [16.1747155 -0.84895   -4.8024   ]]\n",
      "[[13.2338555  0.84895    4.8024   ]\n",
      " [16.1747155 -0.84895    2.4012   ]\n",
      " [14.7042855  0.         0.       ]\n",
      " [13.2338555  0.84895   -2.4012   ]\n",
      " [16.1747155 -0.84895   -4.8024   ]]\n",
      "[[13.2338555  0.84895    4.8024   ]\n",
      " [16.1747155 -0.84895    2.4012   ]\n",
      " [14.7042855  0.         0.       ]\n",
      " [13.2338555  0.84895   -2.4012   ]\n",
      " [16.1747155 -0.84895   -4.8024   ]]\n",
      "[[13.2338555  0.84895    4.8024   ]\n",
      " [16.1747155 -0.84895    2.4012   ]\n",
      " [14.7042855  0.         0.       ]\n",
      " [13.2338555  0.84895   -2.4012   ]\n",
      " [16.1747155 -0.84895   -4.8024   ]]\n"
     ]
    }
   ],
   "source": [
    "latt = [2.94085710, 2.94085710, 500.00000000]\n",
    "angg = [90, 90, 120]\n",
    "my_arr = np.empty((1,3))\n",
    "\n",
    "for i in range(5):\n",
    "    basis[:,0] += latt[0]\n",
    "    print(basis)\n",
    "\n",
    "    my_arr = np.concatenate((my_arr, basis), axis=0)\n",
    "\n",
    "for i in range(5):\n",
    "    my_arr[:,1] += latt[1]\n",
    "    print(basis)\n",
    "\n",
    "    my_arr = np.concatenate((my_arr, basis), axis=0)"
   ]
  },
  {
   "cell_type": "code",
   "execution_count": 115,
   "metadata": {},
   "outputs": [],
   "source": [
    "# for i in range(3):\n",
    "#     temp[:,1] += latt[1]*i\n",
    "\n",
    "#     temp = np.concatenate((temp, basis), axis=0)\n",
    "# temp"
   ]
  },
  {
   "cell_type": "code",
   "execution_count": 116,
   "metadata": {},
   "outputs": [
    {
     "data": {
      "text/plain": [
       "(51, 3)"
      ]
     },
     "execution_count": 116,
     "metadata": {},
     "output_type": "execute_result"
    }
   ],
   "source": [
    "my_arr.shape"
   ]
  },
  {
   "cell_type": "code",
   "execution_count": 117,
   "metadata": {},
   "outputs": [],
   "source": [
    "write_(my_arr,fname='TEMP.xyz', get_pos=False)"
   ]
  },
  {
   "cell_type": "code",
   "execution_count": 2,
   "metadata": {},
   "outputs": [],
   "source": []
  },
  {
   "cell_type": "code",
   "execution_count": null,
   "metadata": {},
   "outputs": [],
   "source": []
  }
 ],
 "metadata": {
  "kernelspec": {
   "display_name": "Python 3",
   "language": "python",
   "name": "python3"
  },
  "language_info": {
   "codemirror_mode": {
    "name": "ipython",
    "version": 3
   },
   "file_extension": ".py",
   "mimetype": "text/x-python",
   "name": "python",
   "nbconvert_exporter": "python",
   "pygments_lexer": "ipython3",
   "version": "3.9.0"
  }
 },
 "nbformat": 4,
 "nbformat_minor": 4
}
