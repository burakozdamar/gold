{
 "cells": [
  {
   "cell_type": "code",
   "execution_count": 17,
   "metadata": {},
   "outputs": [],
   "source": [
    "from ase.visualize import view \n",
    "from ase.build import fcc111, surface\n",
    "from ase.spacegroup import Spacegroup\n",
    "\n",
    "import numpy as np\n",
    "import json"
   ]
  },
  {
   "cell_type": "code",
   "execution_count": 18,
   "metadata": {},
   "outputs": [],
   "source": [
    "# Auxiliary write XYZ to file function\n",
    "# Usage: write_(slab, fname = 'my_slab.xyz')\n",
    "\n",
    "def write_(arr,fname = \"untitled_xyz.xyz\",):\n",
    "    with open(fname,'w') as f:\n",
    "        f.write(f\"{len(arr)}\\n\")\n",
    "        f.write(\"\\n\")\n",
    "        for idx, line in enumerate(arr.get_positions()):\n",
    "            f.write(\"{:2s} {:>12.6f} {:>12.6f} {:>13.6f}\\n\".format(arr.get_chemical_symbols()[idx],line[0], line[1], line[2]))"
   ]
  },
  {
   "cell_type": "markdown",
   "metadata": {},
   "source": [
    "# Au surfaces"
   ]
  },
  {
   "cell_type": "code",
   "execution_count": 19,
   "metadata": {},
   "outputs": [
    {
     "name": "stdout",
     "output_type": "stream",
     "text": [
      "480\n"
     ]
    }
   ],
   "source": [
    "# Generate FCC111 surface\n",
    "# https://wiki.fysik.dtu.dk/ase/ase/build/surface.html#ase.build.fcc111\n",
    "\n",
    "# slab = fcc111('Au', size=(7,10,5), vacuum=15.0, orthogonal=True)\n",
    "slab = fcc111('Au', size=(4,4,30), vacuum=15.0, orthogonal=True)\n",
    "# slab.center()\n",
    "#print(dir(slab)) #see what operations are available for this object\n",
    "print(len(slab.get_positions()))\n",
    "write_(slab, fname = 'Au111_from_fcc111.xyz')"
   ]
  },
  {
   "cell_type": "code",
   "execution_count": 20,
   "metadata": {},
   "outputs": [
    {
     "name": "stdout",
     "output_type": "stream",
     "text": [
      "480\n"
     ]
    }
   ],
   "source": [
    "#https://wiki.fysik.dtu.dk/ase/ase/build/surface.html#ase.build.surface\n",
    "Au1_12 = surface('Au', (1,1,1), layers=15, periodic=True)\n",
    "Au1_12 = Au1_12.repeat(2)\n",
    "\n",
    "Au1_12.translate((16.0, 12.0, 12.49))\n",
    "print(len(Au1_12.get_positions()))\n",
    "write_(Au1_12, 'Au111_from_surface.xyz')\n",
    "\n",
    "# Au1_12.rotate(180,'z')\n",
    "# Au1_12.rotate(180,'y')\n",
    "\n",
    "write_(Au1_12, 'Au111_from_surface_rotated.xyz')\n"
   ]
  },
  {
   "cell_type": "markdown",
   "metadata": {},
   "source": [
    "### Surface vs fcc111\n",
    "---\n",
    "#### These two are identical!\n",
    "\n",
    "\n",
    "1- Au_111_from_fcc111 = fcc111('Au', size=(4,4,30), vacuum=15.0, orthogonal=False)\n",
    "<br><br>\n",
    "\n",
    "2- Au_111_from_surface = surface('Au', (1,1,1), layers=15, periodic=True)\n",
    "<p>2.1- Au_111_from_surface = Au_111_from_surface.repeat(2)\n",
    "\n",
    "\n",
    "\n"
   ]
  },
  {
   "cell_type": "code",
   "execution_count": null,
   "metadata": {},
   "outputs": [],
   "source": [
    "#alvaro\n",
    "#2.94085710     2.94085710   500.00000000    90.000000  90.000000 120.000000\n",
    "#   Au -1.470428551477E+00  8.489523200196E-01  4.802399539119E+00\n",
    "#   Au  1.470428551477E+00 -8.489523200196E-01  2.401199769560E+00\n",
    "#   Au -3.265007267833E-16  0.000000000000E+00  0.000000000000E+00\n",
    "#   Au -1.470428551477E+00  8.489523200196E-01 -2.401199769560E+00\n",
    "#   Au  1.470428551477E+00 -8.489523200196E-01 -4.802399539119E+00\n",
    "a = 5.02778205\n",
    "c = 5.51891800\n",
    "\n",
    "gold_alvaro = crystal(['Au','Au','Au','Au','Au',], \n",
    "                 basis=[(0,0.4773,0.3333),\n",
    "                        (0.4773,0,0.6667),\n",
    "                        (0.5227,0.5227,0),\n",
    "                        (0.1607,0.7457,0.5373),\n",
    "                        (0.2543,0.415,0.204),\n",
    "                        (0.415,0.2543,0.796),\n",
    "                        (0.585,0.8393,0.8707),\n",
    "                        (0.7457,0.1607,0.4627),\n",
    "                        (0.8393,0.585,0.1293)],\n",
    "                 spacegroup=154, \n",
    "                 cellpar=[a, a, c, 90, 90, 120])\n",
    "\n"
   ]
  },
  {
   "cell_type": "code",
   "execution_count": 5,
   "metadata": {},
   "outputs": [],
   "source": [
    "#https://wiki.fysik.dtu.dk/ase/ase/spacegroup/spacegroup.html?highlight=spacegroup#the-spacegroup-class\n",
    "sg = Spacegroup(154)\n",
    "sg = Spacegroup(152)\n",
    "\n",
    "# print(sg)"
   ]
  },
  {
   "cell_type": "markdown",
   "metadata": {},
   "source": [
    "# Alpha quartz facets"
   ]
  },
  {
   "cell_type": "code",
   "execution_count": 14,
   "metadata": {},
   "outputs": [
    {
     "data": {
      "text/plain": [
       "['# generated using pymatgen',\n",
       " 'data_SiO2',\n",
       " \"_symmetry_space_group_name_H-M   'P 1'\",\n",
       " '_cell_length_a   5.02778205',\n",
       " '_cell_length_b   5.02778205',\n",
       " '_cell_length_c   5.51891800',\n",
       " '_cell_angle_alpha   90.00000000',\n",
       " '_cell_angle_beta   90.00000000',\n",
       " '_cell_angle_gamma   120.00000000',\n",
       " '_symmetry_Int_Tables_number   1',\n",
       " '_chemical_formula_structural   SiO2',\n",
       " \"_chemical_formula_sum   'Si3 O6'\",\n",
       " '_cell_volume   120.81961853',\n",
       " '_cell_formula_units_Z   3',\n",
       " 'loop_',\n",
       " ' _symmetry_equiv_pos_site_id',\n",
       " ' _symmetry_equiv_pos_as_xyz',\n",
       " \"  1  'x, y, z'\",\n",
       " 'loop_',\n",
       " ' _atom_site_type_symbol',\n",
       " ' _atom_site_label',\n",
       " ' _atom_site_symmetry_multiplicity',\n",
       " ' _atom_site_fract_x',\n",
       " ' _atom_site_fract_y',\n",
       " ' _atom_site_fract_z',\n",
       " ' _atom_site_occupancy',\n",
       " '  Si  Si0  1  0.52271000  0.52271000  0.00000000  1',\n",
       " '  Si  Si1  1  0.47729000  0.00000000  0.66666667  1',\n",
       " '  Si  Si2  1  0.00000000  0.47729000  0.33333333  1',\n",
       " '  O  O3  1  0.58496300  0.83926000  0.87066700  1',\n",
       " '  O  O4  1  0.16074000  0.74570300  0.53733367  1',\n",
       " '  O  O5  1  0.25429700  0.41503700  0.20400033  1',\n",
       " '  O  O6  1  0.83926000  0.58496300  0.12933300  1',\n",
       " '  O  O7  1  0.74570300  0.16074000  0.46266633  1',\n",
       " '  O  O8  1  0.41503700  0.25429700  0.79599967  1',\n",
       " '']"
      ]
     },
     "execution_count": 14,
     "metadata": {},
     "output_type": "execute_result"
    }
   ],
   "source": [
    "#https://materialsproject.org/materials/mp-6930/#\n",
    "with open('mp-6930_SiO2.json') as json_file:    \n",
    "    data = json.load(json_file)\n",
    "    \n",
    "info = data['cifs']['computed'].split(\"\\n\")\n",
    "\n",
    "info1"
   ]
  },
  {
   "cell_type": "code",
   "execution_count": 15,
   "metadata": {},
   "outputs": [
    {
     "name": "stderr",
     "output_type": "stream",
     "text": [
      "/Users/smol/.pyenv/versions/3.9.0/lib/python3.9/site-packages/ase/spacegroup/spacegroup.py:433: UserWarning: scaled_positions 0 and 1 are equivalent\n",
      "  warnings.warn('scaled_positions %d and %d '\n",
      "/Users/smol/.pyenv/versions/3.9.0/lib/python3.9/site-packages/ase/spacegroup/spacegroup.py:433: UserWarning: scaled_positions 0 and 2 are equivalent\n",
      "  warnings.warn('scaled_positions %d and %d '\n",
      "/Users/smol/.pyenv/versions/3.9.0/lib/python3.9/site-packages/ase/spacegroup/spacegroup.py:433: UserWarning: scaled_positions 3 and 4 are equivalent\n",
      "  warnings.warn('scaled_positions %d and %d '\n",
      "/Users/smol/.pyenv/versions/3.9.0/lib/python3.9/site-packages/ase/spacegroup/spacegroup.py:433: UserWarning: scaled_positions 3 and 5 are equivalent\n",
      "  warnings.warn('scaled_positions %d and %d '\n",
      "/Users/smol/.pyenv/versions/3.9.0/lib/python3.9/site-packages/ase/spacegroup/spacegroup.py:433: UserWarning: scaled_positions 3 and 6 are equivalent\n",
      "  warnings.warn('scaled_positions %d and %d '\n",
      "/Users/smol/.pyenv/versions/3.9.0/lib/python3.9/site-packages/ase/spacegroup/spacegroup.py:433: UserWarning: scaled_positions 3 and 7 are equivalent\n",
      "  warnings.warn('scaled_positions %d and %d '\n",
      "/Users/smol/.pyenv/versions/3.9.0/lib/python3.9/site-packages/ase/spacegroup/spacegroup.py:433: UserWarning: scaled_positions 3 and 8 are equivalent\n",
      "  warnings.warn('scaled_positions %d and %d '\n"
     ]
    },
    {
     "name": "stdout",
     "output_type": "stream",
     "text": [
      "1125\n"
     ]
    }
   ],
   "source": [
    "from ase.spacegroup import crystal\n",
    "\n",
    "a = 5.02778205\n",
    "c = 5.51891800\n",
    "\n",
    "quartz = crystal(['Si','Si','Si', 'O', 'O', 'O', 'O', 'O', 'O'], \n",
    "                 basis=[(0,0.4773,0.3333),\n",
    "                        (0.4773,0,0.6667),\n",
    "                        (0.5227,0.5227,0),\n",
    "                        (0.1607,0.7457,0.5373),\n",
    "                        (0.2543,0.415,0.204),\n",
    "                        (0.415,0.2543,0.796),\n",
    "                        (0.585,0.8393,0.8707),\n",
    "                        (0.7457,0.1607,0.4627),\n",
    "                        (0.8393,0.585,0.1293)],\n",
    "                 spacegroup=154, \n",
    "                 cellpar=[a, a, c, 90, 90, 120])\n",
    "\n",
    "quartz = quartz.repeat((5))\n",
    "print(len(quartz.get_positions()))\n",
    "write_(quartz, fname = 'quartz.xyz')"
   ]
  },
  {
   "cell_type": "code",
   "execution_count": 16,
   "metadata": {},
   "outputs": [
    {
     "name": "stdout",
     "output_type": "stream",
     "text": [
      "Writing quartz_001, 3375\n",
      "Writing quartz_110, 3375\n",
      "Writing quartz_102, 3375\n",
      "Writing quartz_101, 3375\n",
      "Writing quartz_100, 3375\n",
      "Writing quartz_112, 3375\n",
      "Writing quartz_111, 3375\n"
     ]
    }
   ],
   "source": [
    "surfaces = ['001', '110', '102', '101', '100', '112', '111']\n",
    "\n",
    "for s in surfaces:\n",
    "    fname = f'quartz_{s}.xyz'\n",
    "    indice = tuple(map(int, list(s)))\n",
    "    temp = surface(quartz, indices = indice, layers=3, vacuum=15., periodic=False)\n",
    "    print(f\"Writing quartz_{s}, {len(temp.get_positions())}\")\n",
    "    write_(temp, fname = fname)"
   ]
  },
  {
   "cell_type": "code",
   "execution_count": 9,
   "metadata": {},
   "outputs": [],
   "source": [
    "# q_111 = surface(quartz, indices = (1,1,1), layers=2, vacuum=15.)\n",
    "# q_100 = surface(quartz, indices = (1,0,0), layers=2, vacuum=15.)\n",
    "# q_112 = surface(quartz, indices = (1,1,2), layers=2, vacuum=15.)\n",
    "# q_110 = surface(quartz, indices = (1,1,0), layers=2, vacuum=15.)\n",
    "# write_(q_111, fname = 'quartz_111.xyz')\n",
    "# write_(q_100, fname = 'quartz_100.xyz')\n",
    "# write_(q_112, fname = 'quartz_112.xyz')\n",
    "# write_(q_110, fname = 'quartz_110.xyz')"
   ]
  }
 ],
 "metadata": {
  "kernelspec": {
   "display_name": "Python 3",
   "language": "python",
   "name": "python3"
  },
  "language_info": {
   "codemirror_mode": {
    "name": "ipython",
    "version": 3
   },
   "file_extension": ".py",
   "mimetype": "text/x-python",
   "name": "python",
   "nbconvert_exporter": "python",
   "pygments_lexer": "ipython3",
   "version": "3.9.0"
  }
 },
 "nbformat": 4,
 "nbformat_minor": 4
}
