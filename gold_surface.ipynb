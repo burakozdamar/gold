{
 "cells": [
  {
   "cell_type": "code",
   "execution_count": 3,
   "metadata": {},
   "outputs": [],
   "source": [
    "import numpy as np\n",
    "\n",
    "def frac_to_cart(lat, ang, angle_in_degrees=True):\n",
    "    \"\"\"\n",
    "    V_cart = np.dot(r, V_frac).\n",
    "    \"\"\"\n",
    "    a,b,c = lat\n",
    "    alpha, beta, gamma = ang\n",
    "    if angle_in_degrees:\n",
    "        alpha = np.deg2rad(alpha)\n",
    "        beta = np.deg2rad(beta)\n",
    "        gamma = np.deg2rad(gamma)\n",
    "    sina, cosa = np.sin(alpha), np.cos(alpha)\n",
    "    sinb, cosb = np.sin(beta), np.cos(beta)\n",
    "    sing, cosg = np.sin(gamma), np.cos(gamma)\n",
    "\n",
    "    volume = 1.0 - cosa**2.0 - cosb**2.0 - cosg**2.0 + 2.0 * cosa * cosb * cosg\n",
    "    volume = np.sqrt(volume)\n",
    "    r = np.zeros((3, 3))\n",
    "    \n",
    "    r[0, 0] = a\n",
    "    r[0, 1] = b * cosg\n",
    "    r[0, 2] = c * cosb\n",
    "    r[1, 1] = b * sing\n",
    "    r[1, 2] = c * (cosa - cosb * cosg) / sing\n",
    "    r[2, 2] = c * volume / sing\n",
    "    return np.round(r,6)"
   ]
  },
  {
   "cell_type": "code",
   "execution_count": 2,
   "metadata": {},
   "outputs": [],
   "source": [
    "lat, ang = [4.159]*3, [90]*3\n",
    "\n",
    "gold = np.array([[0  , 0  , 0  ],\n",
    "                 [0  , 0.5, 0.5],\n",
    "                 [0.5, 0.5, 0  ],\n",
    "                 [0.5, 0  , 0.5]\n",
    "                ])"
   ]
  },
  {
   "cell_type": "code",
   "execution_count": 18,
   "metadata": {},
   "outputs": [],
   "source": [
    "def repeat(lat, ang, aa=[6,4,6]):\n",
    "    arr = np.empty((0,3))\n",
    "    V_frac=frac_to_cart(lat, ang)\n",
    "    V_cart = np.dot(gold, V_frac)\n",
    "    t = np.array([[lat[0],0,0],[0,lat[1],0],[0,0,lat[2]]])\n",
    "    \n",
    "    for i in range(aa[0]):\n",
    "        temp = V_cart+t[0]*i\n",
    "        arr = np.concatenate((arr,temp))\n",
    "        \n",
    "    for i in range(aa[1]):\n",
    "        temp = arr+t[1]*i\n",
    "        arr = np.concatenate((arr,temp))\n",
    "        \n",
    "    for i in range(aa[2]):\n",
    "        temp = arr+t[2]*i\n",
    "        arr = np.concatenate((arr,temp))\n",
    "        \n",
    "    return arr"
   ]
  },
  {
   "cell_type": "code",
   "execution_count": 17,
   "metadata": {},
   "outputs": [],
   "source": [
    "def write_( arr,fname = \"gold_slab.xyz\",):\n",
    "    with open(fname,'w') as f:\n",
    "        f.write(f\"{len(arr)}\\n\")\n",
    "        f.write(\"\\n\")\n",
    "        for line in arr:\n",
    "            f.write(\"Au {:>12.6f} {:>12.6f} {:>12.6f}\\n\".format(line[0], line[1], line[2]))"
   ]
  },
  {
   "cell_type": "code",
   "execution_count": 5,
   "metadata": {},
   "outputs": [
    {
     "data": {
      "text/plain": [
       "(24576, 3)"
      ]
     },
     "execution_count": 5,
     "metadata": {},
     "output_type": "execute_result"
    }
   ],
   "source": [
    "arr = repeat(lat, ang,)\n",
    "arr.shape"
   ]
  },
  {
   "cell_type": "code",
   "execution_count": 6,
   "metadata": {},
   "outputs": [],
   "source": [
    "write_(arr)"
   ]
  },
  {
   "cell_type": "code",
   "execution_count": 7,
   "metadata": {},
   "outputs": [
    {
     "name": "stdout",
     "output_type": "stream",
     "text": [
      "The equation is -1x + -1y + -1z = -2\n"
     ]
    }
   ],
   "source": [
    "i=1\n",
    "p1 = np.array([0,1,1])*i\n",
    "p2 = np.array([1,0,1])*i\n",
    "p3 = np.array([1,1,0])*i\n",
    "\n",
    "# These two vectors are in the plane\n",
    "v1 = p3 - p1\n",
    "v2 = p2 - p1\n",
    "\n",
    "# the cross product is a vector normal to the plane\n",
    "cp = np.cross(v1, v2)\n",
    "a, b, c = cp\n",
    "\n",
    "# This evaluates a * x3 + b * y3 + c * z3 which equals d\n",
    "d = np.dot(cp, p3)\n",
    "\n",
    "print('The equation is {0}x + {1}y + {2}z = {3}'.format(a, b, c, d))"
   ]
  },
  {
   "cell_type": "code",
   "execution_count": 7,
   "metadata": {},
   "outputs": [],
   "source": [
    "lat, ang =[5.02778205, 5.02778205, 5.51891800], [90,90,120]"
   ]
  },
  {
   "cell_type": "code",
   "execution_count": 8,
   "metadata": {},
   "outputs": [],
   "source": [
    "si = np.array([[0,0.4773,0.3333],\n",
    "[0.4773,0,0.6667],\n",
    "[0.5227,0.5227,0],\n",
    "[0.1607,0.7457,0.5373],\n",
    "[0.2543,0.415,0.204],\n",
    "[0.415,0.2543,0.796],\n",
    "[0.585,0.8393,0.8707],\n",
    "[0.7457,0.1607,0.4627],\n",
    "[0.8393,0.585,0.1293]])"
   ]
  },
  {
   "cell_type": "code",
   "execution_count": 14,
   "metadata": {},
   "outputs": [],
   "source": [
    "V_frac=frac_to_cart(lat, ang)\n",
    "V_cart = np.dot(si, V_frac)"
   ]
  },
  {
   "cell_type": "code",
   "execution_count": 15,
   "metadata": {},
   "outputs": [
    {
     "data": {
      "text/plain": [
       "array([[ 0.        ,  2.07825346,  1.83945537],\n",
       "       [ 2.39976035, -1.19988017,  3.67946263],\n",
       "       [ 2.62802165,  0.96192272,  0.        ],\n",
       "       [ 0.80796457,  2.84293496,  2.96531464],\n",
       "       [ 1.27856496,  1.16770512,  1.12585927],\n",
       "       [ 2.08652953,  0.06400499,  4.39305873],\n",
       "       [ 2.94125247,  2.18384291,  4.8053219 ],\n",
       "       [ 3.74921704, -1.17489067,  2.55360336],\n",
       "       [ 4.21981743,  0.43729068,  0.7135961 ]])"
      ]
     },
     "execution_count": 15,
     "metadata": {},
     "output_type": "execute_result"
    }
   ],
   "source": [
    "V_cart"
   ]
  },
  {
   "cell_type": "code",
   "execution_count": 16,
   "metadata": {},
   "outputs": [],
   "source": [
    "arr = repeat(lat, ang,)"
   ]
  },
  {
   "cell_type": "code",
   "execution_count": null,
   "metadata": {},
   "outputs": [],
   "source": []
  }
 ],
 "metadata": {
  "kernelspec": {
   "display_name": "Python 3",
   "language": "python",
   "name": "python3"
  },
  "language_info": {
   "codemirror_mode": {
    "name": "ipython",
    "version": 3
   },
   "file_extension": ".py",
   "mimetype": "text/x-python",
   "name": "python",
   "nbconvert_exporter": "python",
   "pygments_lexer": "ipython3",
   "version": "3.8.0"
  }
 },
 "nbformat": 4,
 "nbformat_minor": 4
}
