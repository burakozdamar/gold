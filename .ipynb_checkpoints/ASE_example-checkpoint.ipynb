{
 "cells": [
  {
   "cell_type": "code",
   "execution_count": 3,
   "metadata": {},
   "outputs": [],
   "source": [
    "from ase.visualize import view \n",
    "from ase.build import fcc111, surface\n",
    "from ase.spacegroup import Spacegroup\n",
    "import numpy as np\n",
    "import json"
   ]
  },
  {
   "cell_type": "code",
   "execution_count": 4,
   "metadata": {},
   "outputs": [],
   "source": [
    "# Auxiliary write XYZ to file function\n",
    "# Usage: write_(slab, fname = 'my_slab.xyz')\n",
    "\n",
    "def write_(arr,fname = \"untitled_xyz.xyz\",):\n",
    "    with open(fname,'w') as f:\n",
    "        f.write(f\"{len(arr)}\\n\")\n",
    "        f.write(\"\\n\")\n",
    "        for idx, line in enumerate(arr.get_positions()):\n",
    "            f.write(\"{:2s} {:>12.6f} {:>12.6f} {:>12.6f}\\n\".format(arr.get_chemical_symbols()[idx],line[0], line[1], line[2]))"
   ]
  },
  {
   "cell_type": "code",
   "execution_count": 5,
   "metadata": {},
   "outputs": [
    {
     "name": "stdout",
     "output_type": "stream",
     "text": [
      "480\n"
     ]
    }
   ],
   "source": [
    "# Generate FCC111 surface\n",
    "# https://wiki.fysik.dtu.dk/ase/ase/build/surface.html#ase.build.fcc111\n",
    "\n",
    "# slab = fcc111('Au', size=(7,10,5), vacuum=15.0, orthogonal=True)\n",
    "slab = fcc111('Au', size=(4,4,30), vacuum=15.0, orthogonal=False)\n",
    "# slab.center()\n",
    "#print(dir(slab)) #see what operations are available for this object\n",
    "print(len(slab.get_positions()))\n",
    "write_(slab, fname = 'Au111_from_fcc111.xyz')"
   ]
  },
  {
   "cell_type": "code",
   "execution_count": 6,
   "metadata": {},
   "outputs": [
    {
     "name": "stdout",
     "output_type": "stream",
     "text": [
      "480\n"
     ]
    }
   ],
   "source": [
    "#https://wiki.fysik.dtu.dk/ase/ase/build/surface.html#ase.build.surface\n",
    "Au1_12 = surface('Au', (1,1,1), layers=15, periodic=True)\n",
    "Au1_12 = Au1_12.repeat(2)\n",
    "\n",
    "Au1_12.translate((16.0, 12.0, 12.49))\n",
    "print(len(Au1_12.get_positions()))\n",
    "write_(Au1_12, 'Au111_from_surface.xyz')\n",
    "\n",
    "# Au1_12.rotate(180,'z')\n",
    "# Au1_12.rotate(180,'y')\n",
    "\n",
    "write_(Au1_12, 'Au111_from_surface_rotated.xyz')\n"
   ]
  },
  {
   "cell_type": "markdown",
   "metadata": {},
   "source": [
    "### Surface vs fcc111\n",
    "---\n",
    "#### These two are identical!\n",
    "\n",
    "\n",
    "1- Au_111_from_fcc111 = fcc111('Au', size=(4,4,30), vacuum=15.0, orthogonal=False)\n",
    "<br><br>\n",
    "\n",
    "2- Au_111_from_surface = surface('Au', (1,1,1), layers=15, periodic=True)\n",
    "<p>2.1- Au_111_from_surface = Au_111_from_surface.repeat(2)\n",
    "\n",
    "\n",
    "\n"
   ]
  },
  {
   "cell_type": "code",
   "execution_count": 7,
   "metadata": {},
   "outputs": [],
   "source": [
    "#https://wiki.fysik.dtu.dk/ase/ase/spacegroup/spacegroup.html?highlight=spacegroup#the-spacegroup-class\n",
    "sg = Spacegroup(154)\n",
    "sg = Spacegroup(152)\n",
    "\n",
    "# print(sg)"
   ]
  },
  {
   "cell_type": "code",
   "execution_count": 8,
   "metadata": {},
   "outputs": [],
   "source": [
    "#https://wiki.fysik.dtu.dk/ase/ase/spacegroup/spacegroup.html#rutile\n",
    "#http://www.minweb.co.uk/quartz/alphaquartz.html\n",
    "\n",
    "# from ase.spacegroup import crystal\n",
    "\n",
    "# a = 4.9134\n",
    "# c = 5.4052 \n",
    "\n",
    "# quartz = crystal(['Si', 'O'], basis=[(0.4699, 0, 0), (0.4141, 0.2681 ,0.1188)],\n",
    "#                 spacegroup=152, cellpar=[a, a, c, 90, 90, 120], size=(4))\n",
    "# write_(quartz, 'quartz.xyz')"
   ]
  },
  {
   "cell_type": "code",
   "execution_count": null,
   "metadata": {},
   "outputs": [],
   "source": []
  },
  {
   "cell_type": "code",
   "execution_count": 9,
   "metadata": {},
   "outputs": [],
   "source": [
    "with open('mp-6930_SiO2.json') as json_file:    \n",
    "    data = json.load(json_file)"
   ]
  },
  {
   "cell_type": "code",
   "execution_count": 10,
   "metadata": {},
   "outputs": [
    {
     "name": "stderr",
     "output_type": "stream",
     "text": [
      "/Users/smol/.pyenv/versions/3.9.0/lib/python3.9/site-packages/ase/spacegroup/spacegroup.py:433: UserWarning: scaled_positions 0 and 1 are equivalent\n",
      "  warnings.warn('scaled_positions %d and %d '\n",
      "/Users/smol/.pyenv/versions/3.9.0/lib/python3.9/site-packages/ase/spacegroup/spacegroup.py:433: UserWarning: scaled_positions 0 and 2 are equivalent\n",
      "  warnings.warn('scaled_positions %d and %d '\n",
      "/Users/smol/.pyenv/versions/3.9.0/lib/python3.9/site-packages/ase/spacegroup/spacegroup.py:433: UserWarning: scaled_positions 3 and 4 are equivalent\n",
      "  warnings.warn('scaled_positions %d and %d '\n",
      "/Users/smol/.pyenv/versions/3.9.0/lib/python3.9/site-packages/ase/spacegroup/spacegroup.py:433: UserWarning: scaled_positions 3 and 5 are equivalent\n",
      "  warnings.warn('scaled_positions %d and %d '\n",
      "/Users/smol/.pyenv/versions/3.9.0/lib/python3.9/site-packages/ase/spacegroup/spacegroup.py:433: UserWarning: scaled_positions 3 and 6 are equivalent\n",
      "  warnings.warn('scaled_positions %d and %d '\n",
      "/Users/smol/.pyenv/versions/3.9.0/lib/python3.9/site-packages/ase/spacegroup/spacegroup.py:433: UserWarning: scaled_positions 3 and 7 are equivalent\n",
      "  warnings.warn('scaled_positions %d and %d '\n",
      "/Users/smol/.pyenv/versions/3.9.0/lib/python3.9/site-packages/ase/spacegroup/spacegroup.py:433: UserWarning: scaled_positions 3 and 8 are equivalent\n",
      "  warnings.warn('scaled_positions %d and %d '\n"
     ]
    }
   ],
   "source": [
    "from ase.spacegroup import crystal\n",
    "\n",
    "a = 4.9134\n",
    "c = 5.4052 \n",
    "\n",
    "quartz = crystal(['Si','Si','Si', 'O', 'O', 'O', 'O', 'O', 'O'], \n",
    "                 basis=[(0,0.4773,0.3333),\n",
    "                        (0.4773,0,0.6667),\n",
    "                        (0.5227,0.5227,0),\n",
    "                        (0.1607,0.7457,0.5373),\n",
    "                        (0.2543,0.415,0.204),\n",
    "                        (0.415,0.2543,0.796),\n",
    "                        (0.585,0.8393,0.8707),\n",
    "                        (0.7457,0.1607,0.4627),\n",
    "                        (0.8393,0.585,0.1293)],\n",
    "                 spacegroup=154, \n",
    "                 cellpar=[a, a, c, 90, 90, 120])"
   ]
  },
  {
   "cell_type": "code",
   "execution_count": 11,
   "metadata": {},
   "outputs": [
    {
     "data": {
      "text/plain": [
       "1125"
      ]
     },
     "execution_count": 11,
     "metadata": {},
     "output_type": "execute_result"
    }
   ],
   "source": [
    "quartz=quartz.repeat(5)\n",
    "len(quartz.get_positions())"
   ]
  },
  {
   "cell_type": "code",
   "execution_count": 12,
   "metadata": {},
   "outputs": [],
   "source": [
    "write_(quartz, fname = 'quartz.xyz')"
   ]
  },
  {
   "cell_type": "code",
   "execution_count": null,
   "metadata": {},
   "outputs": [],
   "source": []
  }
 ],
 "metadata": {
  "kernelspec": {
   "display_name": "Python 3",
   "language": "python",
   "name": "python3"
  },
  "language_info": {
   "codemirror_mode": {
    "name": "ipython",
    "version": 3
   },
   "file_extension": ".py",
   "mimetype": "text/x-python",
   "name": "python",
   "nbconvert_exporter": "python",
   "pygments_lexer": "ipython3",
   "version": "3.9.0"
  }
 },
 "nbformat": 4,
 "nbformat_minor": 4
}
