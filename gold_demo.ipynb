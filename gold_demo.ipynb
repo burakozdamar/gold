{
 "cells": [
  {
   "cell_type": "code",
   "execution_count": 15,
   "metadata": {},
   "outputs": [],
   "source": [
    "import math\n",
    "from ase.spacegroup import crystal\n",
    "from ase.build import fcc111, fcc110, fcc100, surface"
   ]
  },
  {
   "cell_type": "code",
   "execution_count": 16,
   "metadata": {},
   "outputs": [],
   "source": [
    "# Auxiliary write XYZ to file function\n",
    "# Usage: write_(slab, fname = 'my_slab.xyz')\n",
    "\n",
    "def write_(arr, fname = \"untitled_xyz.xyz\", get_pos = True, atom = 'Au'):\n",
    "    with open(fname,'w') as f:\n",
    "        f.write(f\"{len(arr)}\\n\")\n",
    "        f.write(\"\\n\")\n",
    "        if get_pos:\n",
    "            for idx, line in enumerate(arr.get_positions()):\n",
    "                f.write(\"{:2s} {:>12.6f} {:>12.6f} {:>13.6f}\\n\".format(arr.get_chemical_symbols()[idx],line[0], line[1], line[2]))\n",
    "        else:\n",
    "            for idx, line in enumerate(arr):\n",
    "                f.write(\"Au {:>12.6f} {:>12.6f} {:>13.6f}\\n\".format(line[0], line[1], line[2]))"
   ]
  },
  {
   "cell_type": "code",
   "execution_count": null,
   "metadata": {},
   "outputs": [],
   "source": [
    "#recreating a new surface from computed lattice constant\n",
    "\n",
    "a = 2.94086\n",
    "\n",
    "gold_basis = [0,0,0]\n",
    "\n",
    "gold_crys = crystal(['Au'], \n",
    "                 basis=gold_basis, \n",
    "                 cellpar=[a, a, a, 90,120,120], size=(15,15,5))\n",
    "\n",
    "g511 = surface(lattice='Au', indices=(5,1,1), layers=30, periodic=False)"
   ]
  },
  {
   "cell_type": "code",
   "execution_count": null,
   "metadata": {},
   "outputs": [],
   "source": [
    "write_(g511, fname = 'gold_demo_511_surface.xyz')"
   ]
  },
  {
   "cell_type": "code",
   "execution_count": 23,
   "metadata": {},
   "outputs": [],
   "source": [
    "write_(gold_crys, fname = 'gold_demo_crys.xyz')"
   ]
  },
  {
   "cell_type": "code",
   "execution_count": null,
   "metadata": {},
   "outputs": [],
   "source": [
    "gold_111 = fcc111('Au', size=(14,14,5), a = a * math.sqrt(2), vacuum=15.0, orthogonal=True)\n",
    "gold_110 = fcc110('Au', size=(15,15,5), a = a * math.sqrt(2), vacuum=15.0, orthogonal=True)\n",
    "gold_100 = fcc100('Au', size=(15,15,5), a = a * math.sqrt(2), vacuum=15.0, orthogonal=True)"
   ]
  },
  {
   "cell_type": "code",
   "execution_count": 14,
   "metadata": {},
   "outputs": [],
   "source": [
    "write_(gold_111, fname = 'gold_demo_111.xyz')\n",
    "write_(gold_110, fname = 'gold_demo_110.xyz')\n",
    "write_(gold_100, fname = 'gold_demo_100.xyz')"
   ]
  },
  {
   "cell_type": "code",
   "execution_count": null,
   "metadata": {},
   "outputs": [],
   "source": []
  }
 ],
 "metadata": {
  "kernelspec": {
   "display_name": "Python 3",
   "language": "python",
   "name": "python3"
  },
  "language_info": {
   "codemirror_mode": {
    "name": "ipython",
    "version": 3
   },
   "file_extension": ".py",
   "mimetype": "text/x-python",
   "name": "python",
   "nbconvert_exporter": "python",
   "pygments_lexer": "ipython3",
   "version": "3.9.0"
  }
 },
 "nbformat": 4,
 "nbformat_minor": 4
}
