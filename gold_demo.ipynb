{
 "cells": [
  {
   "cell_type": "code",
   "execution_count": 1,
   "metadata": {},
   "outputs": [],
   "source": [
    "import math\n",
    "import ase.io\n",
    "\n",
    "from ase.spacegroup import crystal\n",
    "from ase.build import fcc111, fcc110, fcc100, surface"
   ]
  },
  {
   "cell_type": "code",
   "execution_count": 2,
   "metadata": {},
   "outputs": [],
   "source": [
    "# Auxiliary write XYZ to file function\n",
    "# Usage: write_(slab, fname = 'my_slab.xyz')\n",
    "\n",
    "def write_(arr, fname = \"untitled_xyz.xyz\", get_pos = True, atom = 'Au'):\n",
    "    with open(fname,'w') as f:\n",
    "        f.write(f\"{len(arr)}\\n\")\n",
    "        f.write(\"\\n\")\n",
    "        if get_pos:\n",
    "            for idx, line in enumerate(arr.get_positions()):\n",
    "                f.write(\"{:2s} {:>12.6f} {:>12.6f} {:>13.6f}\\n\".format(arr.get_chemical_symbols()[idx],line[0], line[1], line[2]))\n",
    "        else:\n",
    "            for idx, line in enumerate(arr):\n",
    "                f.write(\"Au {:>12.6f} {:>12.6f} {:>13.6f}\\n\".format(line[0], line[1], line[2]))"
   ]
  },
  {
   "cell_type": "code",
   "execution_count": 3,
   "metadata": {},
   "outputs": [],
   "source": [
    "#recreating a new surface from computed lattice constant\n",
    "\n",
    "a = 2.94086\n",
    "\n",
    "gold_basis = [0,0,0]\n",
    "\n",
    "gold_crys = crystal(['Au'], \n",
    "                 basis=gold_basis, \n",
    "                 cellpar=[a, a, a, 90,120,120], size=(15,15,5))\n",
    "\n",
    "g511 = surface(lattice='Au', indices=(5,1,1), layers=30, periodic=False)"
   ]
  },
  {
   "cell_type": "code",
   "execution_count": 4,
   "metadata": {},
   "outputs": [],
   "source": [
    "write_(g511, fname = 'gold_demo_511_surface.xyz')"
   ]
  },
  {
   "cell_type": "code",
   "execution_count": 5,
   "metadata": {},
   "outputs": [],
   "source": [
    "write_(gold_crys, fname = 'gold_demo_crys.xyz')"
   ]
  },
  {
   "cell_type": "code",
   "execution_count": 6,
   "metadata": {},
   "outputs": [
    {
     "name": "stdout",
     "output_type": "stream",
     "text": [
      "80\n"
     ]
    }
   ],
   "source": [
    "gold_111 = fcc111('Au', size=(4,4,5), a = a * math.sqrt(2), vacuum=5.0, orthogonal=True)\n",
    "print(len(gold_111.get_positions()))\n",
    "gold_110 = fcc110('Au', size=(15,15,5), a = a * math.sqrt(2), vacuum=15.0, orthogonal=True)\n",
    "gold_100 = fcc100('Au', size=(15,15,5), a = a * math.sqrt(2), vacuum=15.0, orthogonal=True)"
   ]
  },
  {
   "cell_type": "code",
   "execution_count": 7,
   "metadata": {},
   "outputs": [
    {
     "data": {
      "text/plain": [
       "Cell([11.763440000000001, 10.187437875894016, 19.60480853994845])"
      ]
     },
     "execution_count": 7,
     "metadata": {},
     "output_type": "execute_result"
    }
   ],
   "source": [
    "gold_111.get_cell()"
   ]
  },
  {
   "cell_type": "code",
   "execution_count": 8,
   "metadata": {},
   "outputs": [],
   "source": [
    "write_(gold_111, fname = 'gold_demo_111.xyz')\n",
    "write_(gold_110, fname = 'gold_demo_110.xyz')\n",
    "write_(gold_100, fname = 'gold_demo_100.xyz')"
   ]
  },
  {
   "cell_type": "code",
   "execution_count": 31,
   "metadata": {},
   "outputs": [],
   "source": [
    "## Can create specific surfaces thanks to Materials Project.\n",
    "\n",
    "cell = ase.io.read(\"Au_mp-81_111.cif\")\n",
    "# cell.cell.cellpar()\n",
    "# cell.get_positions()"
   ]
  },
  {
   "cell_type": "code",
   "execution_count": 58,
   "metadata": {},
   "outputs": [
    {
     "data": {
      "text/plain": [
       "['Au', 'Au', 'Au', 'Au', 'Au', 'Au', 'Au', 'Au', 'Au']"
      ]
     },
     "execution_count": 58,
     "metadata": {},
     "output_type": "execute_result"
    }
   ],
   "source": [
    "cell.get_chemical_symbols()"
   ]
  },
  {
   "cell_type": "code",
   "execution_count": 55,
   "metadata": {},
   "outputs": [],
   "source": [
    "Au111_from_cif = crystal(cell.get_chemical_symbols(), \n",
    "                 basis=cell.get_positions(), \n",
    "                 cellpar=cell.cell.cellpar(), size=(10,10,1))"
   ]
  },
  {
   "cell_type": "code",
   "execution_count": 56,
   "metadata": {},
   "outputs": [
    {
     "data": {
      "text/plain": [
       "Atoms(symbols='Au900', pbc=True, cell=[[29.50478, 0.0, 0.0], [-14.752390021873975, 25.551890039672553, 0.0], [0.0, 0.0, 43.36299]], spacegroup_kinds=...)"
      ]
     },
     "execution_count": 56,
     "metadata": {},
     "output_type": "execute_result"
    }
   ],
   "source": [
    "Au111_from_cif"
   ]
  },
  {
   "cell_type": "code",
   "execution_count": 57,
   "metadata": {},
   "outputs": [],
   "source": [
    "write_(Au111_from_cif, \"Au111_from_cif.xyz\")"
   ]
  }
 ],
 "metadata": {
  "kernelspec": {
   "display_name": "Python 3",
   "language": "python",
   "name": "python3"
  },
  "language_info": {
   "codemirror_mode": {
    "name": "ipython",
    "version": 3
   },
   "file_extension": ".py",
   "mimetype": "text/x-python",
   "name": "python",
   "nbconvert_exporter": "python",
   "pygments_lexer": "ipython3",
   "version": "3.9.0"
  }
 },
 "nbformat": 4,
 "nbformat_minor": 4
}
